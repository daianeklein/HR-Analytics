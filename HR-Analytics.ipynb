{
 "cells": [
  {
   "cell_type": "markdown",
   "id": "b8f703d0",
   "metadata": {},
   "source": [
    "# IBM HR Analytics Employee Attrition & Performance\n",
    "\n",
    "***"
   ]
  },
  {
   "cell_type": "markdown",
   "id": "94637bbb",
   "metadata": {},
   "source": [
    "# Lib's"
   ]
  },
  {
   "cell_type": "code",
   "execution_count": 1,
   "id": "7a8b3838",
   "metadata": {
    "ExecuteTime": {
     "end_time": "2021-07-11T00:54:04.494514Z",
     "start_time": "2021-07-11T00:54:02.851571Z"
    }
   },
   "outputs": [],
   "source": [
    "import pandas as pd\n",
    "import numpy as np\n",
    "import matplotlib.pyplot as plt\n",
    "\n",
    "import seaborn as sns"
   ]
  },
  {
   "cell_type": "markdown",
   "id": "8926f7d8",
   "metadata": {},
   "source": [
    "# Dataset"
   ]
  },
  {
   "cell_type": "code",
   "execution_count": 2,
   "id": "b301efcb",
   "metadata": {
    "ExecuteTime": {
     "end_time": "2021-07-11T00:54:04.551138Z",
     "start_time": "2021-07-11T00:54:04.497863Z"
    }
   },
   "outputs": [
    {
     "data": {
      "text/html": [
       "<div>\n",
       "<style scoped>\n",
       "    .dataframe tbody tr th:only-of-type {\n",
       "        vertical-align: middle;\n",
       "    }\n",
       "\n",
       "    .dataframe tbody tr th {\n",
       "        vertical-align: top;\n",
       "    }\n",
       "\n",
       "    .dataframe thead th {\n",
       "        text-align: right;\n",
       "    }\n",
       "</style>\n",
       "<table border=\"1\" class=\"dataframe\">\n",
       "  <thead>\n",
       "    <tr style=\"text-align: right;\">\n",
       "      <th></th>\n",
       "      <th>ï»¿Age</th>\n",
       "      <th>Attrition</th>\n",
       "      <th>BusinessTravel</th>\n",
       "      <th>DailyRate</th>\n",
       "      <th>Department</th>\n",
       "      <th>DistanceFromHome</th>\n",
       "      <th>Education</th>\n",
       "      <th>EducationField</th>\n",
       "      <th>EmployeeCount</th>\n",
       "      <th>EmployeeNumber</th>\n",
       "      <th>...</th>\n",
       "      <th>RelationshipSatisfaction</th>\n",
       "      <th>StandardHours</th>\n",
       "      <th>StockOptionLevel</th>\n",
       "      <th>TotalWorkingYears</th>\n",
       "      <th>TrainingTimesLastYear</th>\n",
       "      <th>WorkLifeBalance</th>\n",
       "      <th>YearsAtCompany</th>\n",
       "      <th>YearsInCurrentRole</th>\n",
       "      <th>YearsSinceLastPromotion</th>\n",
       "      <th>YearsWithCurrManager</th>\n",
       "    </tr>\n",
       "  </thead>\n",
       "  <tbody>\n",
       "    <tr>\n",
       "      <th>0</th>\n",
       "      <td>41</td>\n",
       "      <td>Yes</td>\n",
       "      <td>Travel_Rarely</td>\n",
       "      <td>1102</td>\n",
       "      <td>Sales</td>\n",
       "      <td>1</td>\n",
       "      <td>2</td>\n",
       "      <td>Life Sciences</td>\n",
       "      <td>1</td>\n",
       "      <td>1</td>\n",
       "      <td>...</td>\n",
       "      <td>1</td>\n",
       "      <td>80</td>\n",
       "      <td>0</td>\n",
       "      <td>8</td>\n",
       "      <td>0</td>\n",
       "      <td>1</td>\n",
       "      <td>6</td>\n",
       "      <td>4</td>\n",
       "      <td>0</td>\n",
       "      <td>5</td>\n",
       "    </tr>\n",
       "    <tr>\n",
       "      <th>1</th>\n",
       "      <td>49</td>\n",
       "      <td>No</td>\n",
       "      <td>Travel_Frequently</td>\n",
       "      <td>279</td>\n",
       "      <td>Research &amp; Development</td>\n",
       "      <td>8</td>\n",
       "      <td>1</td>\n",
       "      <td>Life Sciences</td>\n",
       "      <td>1</td>\n",
       "      <td>2</td>\n",
       "      <td>...</td>\n",
       "      <td>4</td>\n",
       "      <td>80</td>\n",
       "      <td>1</td>\n",
       "      <td>10</td>\n",
       "      <td>3</td>\n",
       "      <td>3</td>\n",
       "      <td>10</td>\n",
       "      <td>7</td>\n",
       "      <td>1</td>\n",
       "      <td>7</td>\n",
       "    </tr>\n",
       "    <tr>\n",
       "      <th>2</th>\n",
       "      <td>37</td>\n",
       "      <td>Yes</td>\n",
       "      <td>Travel_Rarely</td>\n",
       "      <td>1373</td>\n",
       "      <td>Research &amp; Development</td>\n",
       "      <td>2</td>\n",
       "      <td>2</td>\n",
       "      <td>Other</td>\n",
       "      <td>1</td>\n",
       "      <td>4</td>\n",
       "      <td>...</td>\n",
       "      <td>2</td>\n",
       "      <td>80</td>\n",
       "      <td>0</td>\n",
       "      <td>7</td>\n",
       "      <td>3</td>\n",
       "      <td>3</td>\n",
       "      <td>0</td>\n",
       "      <td>0</td>\n",
       "      <td>0</td>\n",
       "      <td>0</td>\n",
       "    </tr>\n",
       "    <tr>\n",
       "      <th>3</th>\n",
       "      <td>33</td>\n",
       "      <td>No</td>\n",
       "      <td>Travel_Frequently</td>\n",
       "      <td>1392</td>\n",
       "      <td>Research &amp; Development</td>\n",
       "      <td>3</td>\n",
       "      <td>4</td>\n",
       "      <td>Life Sciences</td>\n",
       "      <td>1</td>\n",
       "      <td>5</td>\n",
       "      <td>...</td>\n",
       "      <td>3</td>\n",
       "      <td>80</td>\n",
       "      <td>0</td>\n",
       "      <td>8</td>\n",
       "      <td>3</td>\n",
       "      <td>3</td>\n",
       "      <td>8</td>\n",
       "      <td>7</td>\n",
       "      <td>3</td>\n",
       "      <td>0</td>\n",
       "    </tr>\n",
       "    <tr>\n",
       "      <th>4</th>\n",
       "      <td>27</td>\n",
       "      <td>No</td>\n",
       "      <td>Travel_Rarely</td>\n",
       "      <td>591</td>\n",
       "      <td>Research &amp; Development</td>\n",
       "      <td>2</td>\n",
       "      <td>1</td>\n",
       "      <td>Medical</td>\n",
       "      <td>1</td>\n",
       "      <td>7</td>\n",
       "      <td>...</td>\n",
       "      <td>4</td>\n",
       "      <td>80</td>\n",
       "      <td>1</td>\n",
       "      <td>6</td>\n",
       "      <td>3</td>\n",
       "      <td>3</td>\n",
       "      <td>2</td>\n",
       "      <td>2</td>\n",
       "      <td>2</td>\n",
       "      <td>2</td>\n",
       "    </tr>\n",
       "  </tbody>\n",
       "</table>\n",
       "<p>5 rows × 35 columns</p>\n",
       "</div>"
      ],
      "text/plain": [
       "   ï»¿Age Attrition     BusinessTravel  DailyRate              Department  \\\n",
       "0      41       Yes      Travel_Rarely       1102                   Sales   \n",
       "1      49        No  Travel_Frequently        279  Research & Development   \n",
       "2      37       Yes      Travel_Rarely       1373  Research & Development   \n",
       "3      33        No  Travel_Frequently       1392  Research & Development   \n",
       "4      27        No      Travel_Rarely        591  Research & Development   \n",
       "\n",
       "   DistanceFromHome  Education EducationField  EmployeeCount  EmployeeNumber  \\\n",
       "0                 1          2  Life Sciences              1               1   \n",
       "1                 8          1  Life Sciences              1               2   \n",
       "2                 2          2          Other              1               4   \n",
       "3                 3          4  Life Sciences              1               5   \n",
       "4                 2          1        Medical              1               7   \n",
       "\n",
       "   ...  RelationshipSatisfaction StandardHours  StockOptionLevel  \\\n",
       "0  ...                         1            80                 0   \n",
       "1  ...                         4            80                 1   \n",
       "2  ...                         2            80                 0   \n",
       "3  ...                         3            80                 0   \n",
       "4  ...                         4            80                 1   \n",
       "\n",
       "   TotalWorkingYears  TrainingTimesLastYear WorkLifeBalance  YearsAtCompany  \\\n",
       "0                  8                      0               1               6   \n",
       "1                 10                      3               3              10   \n",
       "2                  7                      3               3               0   \n",
       "3                  8                      3               3               8   \n",
       "4                  6                      3               3               2   \n",
       "\n",
       "  YearsInCurrentRole  YearsSinceLastPromotion  YearsWithCurrManager  \n",
       "0                  4                        0                     5  \n",
       "1                  7                        1                     7  \n",
       "2                  0                        0                     0  \n",
       "3                  7                        3                     0  \n",
       "4                  2                        2                     2  \n",
       "\n",
       "[5 rows x 35 columns]"
      ]
     },
     "execution_count": 2,
     "metadata": {},
     "output_type": "execute_result"
    }
   ],
   "source": [
    "df_raw = pd.read_csv('dataset.csv', sep = ',', encoding = 'latin-1')\n",
    "df_raw.head()"
   ]
  },
  {
   "cell_type": "markdown",
   "id": "719eaf3e",
   "metadata": {},
   "source": [
    "## Data Type"
   ]
  },
  {
   "cell_type": "code",
   "execution_count": 3,
   "id": "32bd939a",
   "metadata": {
    "ExecuteTime": {
     "end_time": "2021-07-11T00:54:04.560327Z",
     "start_time": "2021-07-11T00:54:04.554685Z"
    }
   },
   "outputs": [
    {
     "data": {
      "text/plain": [
       "(1470, 35)"
      ]
     },
     "execution_count": 3,
     "metadata": {},
     "output_type": "execute_result"
    }
   ],
   "source": [
    "# shape\n",
    "df_raw.shape"
   ]
  },
  {
   "cell_type": "code",
   "execution_count": 4,
   "id": "bda98f93",
   "metadata": {
    "ExecuteTime": {
     "end_time": "2021-07-11T00:54:04.573117Z",
     "start_time": "2021-07-11T00:54:04.563756Z"
    }
   },
   "outputs": [
    {
     "data": {
      "text/plain": [
       "ï»¿Age                       int64\n",
       "Attrition                   object\n",
       "BusinessTravel              object\n",
       "DailyRate                    int64\n",
       "Department                  object\n",
       "DistanceFromHome             int64\n",
       "Education                    int64\n",
       "EducationField              object\n",
       "EmployeeCount                int64\n",
       "EmployeeNumber               int64\n",
       "EnvironmentSatisfaction      int64\n",
       "Gender                      object\n",
       "HourlyRate                   int64\n",
       "JobInvolvement               int64\n",
       "JobLevel                     int64\n",
       "JobRole                     object\n",
       "JobSatisfaction              int64\n",
       "MaritalStatus               object\n",
       "MonthlyIncome                int64\n",
       "MonthlyRate                  int64\n",
       "NumCompaniesWorked           int64\n",
       "Over18                      object\n",
       "OverTime                    object\n",
       "PercentSalaryHike            int64\n",
       "PerformanceRating            int64\n",
       "RelationshipSatisfaction     int64\n",
       "StandardHours                int64\n",
       "StockOptionLevel             int64\n",
       "TotalWorkingYears            int64\n",
       "TrainingTimesLastYear        int64\n",
       "WorkLifeBalance              int64\n",
       "YearsAtCompany               int64\n",
       "YearsInCurrentRole           int64\n",
       "YearsSinceLastPromotion      int64\n",
       "YearsWithCurrManager         int64\n",
       "dtype: object"
      ]
     },
     "execution_count": 4,
     "metadata": {},
     "output_type": "execute_result"
    }
   ],
   "source": [
    "# data types\n",
    "df_raw.dtypes"
   ]
  },
  {
   "cell_type": "code",
   "execution_count": 5,
   "id": "3c3c8f14",
   "metadata": {
    "ExecuteTime": {
     "end_time": "2021-07-11T00:54:04.583259Z",
     "start_time": "2021-07-11T00:54:04.575515Z"
    }
   },
   "outputs": [
    {
     "data": {
      "text/plain": [
       "Index(['Age', 'Attrition', 'BusinessTravel', 'DailyRate', 'Department',\n",
       "       'DistanceFromHome', 'Education', 'EducationField', 'EmployeeCount',\n",
       "       'EmployeeNumber', 'EnvironmentSatisfaction', 'Gender', 'HourlyRate',\n",
       "       'JobInvolvement', 'JobLevel', 'JobRole', 'JobSatisfaction',\n",
       "       'MaritalStatus', 'MonthlyIncome', 'MonthlyRate', 'NumCompaniesWorked',\n",
       "       'Over18', 'OverTime', 'PercentSalaryHike', 'PerformanceRating',\n",
       "       'RelationshipSatisfaction', 'StandardHours', 'StockOptionLevel',\n",
       "       'TotalWorkingYears', 'TrainingTimesLastYear', 'WorkLifeBalance',\n",
       "       'YearsAtCompany', 'YearsInCurrentRole', 'YearsSinceLastPromotion',\n",
       "       'YearsWithCurrManager'],\n",
       "      dtype='object')"
      ]
     },
     "execution_count": 5,
     "metadata": {},
     "output_type": "execute_result"
    }
   ],
   "source": [
    "# rename first column (ï»¿Age)\n",
    "df_raw.rename(columns = {'ï»¿Age' : 'Age'}, inplace = True)\n",
    "\n",
    "df_raw.columns"
   ]
  },
  {
   "cell_type": "markdown",
   "id": "fd41d2fd",
   "metadata": {},
   "source": [
    "## Null Values"
   ]
  },
  {
   "cell_type": "code",
   "execution_count": 6,
   "id": "263cb49b",
   "metadata": {
    "ExecuteTime": {
     "end_time": "2021-07-11T00:54:04.595822Z",
     "start_time": "2021-07-11T00:54:04.585660Z"
    }
   },
   "outputs": [
    {
     "data": {
      "text/plain": [
       "Age                         0\n",
       "Attrition                   0\n",
       "BusinessTravel              0\n",
       "DailyRate                   0\n",
       "Department                  0\n",
       "DistanceFromHome            0\n",
       "Education                   0\n",
       "EducationField              0\n",
       "EmployeeCount               0\n",
       "EmployeeNumber              0\n",
       "EnvironmentSatisfaction     0\n",
       "Gender                      0\n",
       "HourlyRate                  0\n",
       "JobInvolvement              0\n",
       "JobLevel                    0\n",
       "JobRole                     0\n",
       "JobSatisfaction             0\n",
       "MaritalStatus               0\n",
       "MonthlyIncome               0\n",
       "MonthlyRate                 0\n",
       "NumCompaniesWorked          0\n",
       "Over18                      0\n",
       "OverTime                    0\n",
       "PercentSalaryHike           0\n",
       "PerformanceRating           0\n",
       "RelationshipSatisfaction    0\n",
       "StandardHours               0\n",
       "StockOptionLevel            0\n",
       "TotalWorkingYears           0\n",
       "TrainingTimesLastYear       0\n",
       "WorkLifeBalance             0\n",
       "YearsAtCompany              0\n",
       "YearsInCurrentRole          0\n",
       "YearsSinceLastPromotion     0\n",
       "YearsWithCurrManager        0\n",
       "dtype: int64"
      ]
     },
     "execution_count": 6,
     "metadata": {},
     "output_type": "execute_result"
    }
   ],
   "source": [
    "df_raw.isna().sum()"
   ]
  },
  {
   "cell_type": "code",
   "execution_count": 7,
   "id": "024c9abd",
   "metadata": {
    "ExecuteTime": {
     "end_time": "2021-07-11T00:54:04.623820Z",
     "start_time": "2021-07-11T00:54:04.598587Z"
    }
   },
   "outputs": [
    {
     "data": {
      "text/html": [
       "<div>\n",
       "<style scoped>\n",
       "    .dataframe tbody tr th:only-of-type {\n",
       "        vertical-align: middle;\n",
       "    }\n",
       "\n",
       "    .dataframe tbody tr th {\n",
       "        vertical-align: top;\n",
       "    }\n",
       "\n",
       "    .dataframe thead th {\n",
       "        text-align: right;\n",
       "    }\n",
       "</style>\n",
       "<table border=\"1\" class=\"dataframe\">\n",
       "  <thead>\n",
       "    <tr style=\"text-align: right;\">\n",
       "      <th></th>\n",
       "      <th>62</th>\n",
       "      <th>1264</th>\n",
       "      <th>1373</th>\n",
       "      <th>650</th>\n",
       "      <th>875</th>\n",
       "    </tr>\n",
       "  </thead>\n",
       "  <tbody>\n",
       "    <tr>\n",
       "      <th>Age</th>\n",
       "      <td>50</td>\n",
       "      <td>55</td>\n",
       "      <td>38</td>\n",
       "      <td>43</td>\n",
       "      <td>44</td>\n",
       "    </tr>\n",
       "    <tr>\n",
       "      <th>Attrition</th>\n",
       "      <td>No</td>\n",
       "      <td>No</td>\n",
       "      <td>No</td>\n",
       "      <td>No</td>\n",
       "      <td>No</td>\n",
       "    </tr>\n",
       "    <tr>\n",
       "      <th>BusinessTravel</th>\n",
       "      <td>Travel_Rarely</td>\n",
       "      <td>Travel_Rarely</td>\n",
       "      <td>Travel_Frequently</td>\n",
       "      <td>Travel_Frequently</td>\n",
       "      <td>Travel_Rarely</td>\n",
       "    </tr>\n",
       "    <tr>\n",
       "      <th>DailyRate</th>\n",
       "      <td>989</td>\n",
       "      <td>478</td>\n",
       "      <td>1394</td>\n",
       "      <td>422</td>\n",
       "      <td>200</td>\n",
       "    </tr>\n",
       "    <tr>\n",
       "      <th>Department</th>\n",
       "      <td>Research &amp; Development</td>\n",
       "      <td>Research &amp; Development</td>\n",
       "      <td>Research &amp; Development</td>\n",
       "      <td>Research &amp; Development</td>\n",
       "      <td>Research &amp; Development</td>\n",
       "    </tr>\n",
       "    <tr>\n",
       "      <th>DistanceFromHome</th>\n",
       "      <td>7</td>\n",
       "      <td>2</td>\n",
       "      <td>8</td>\n",
       "      <td>1</td>\n",
       "      <td>29</td>\n",
       "    </tr>\n",
       "    <tr>\n",
       "      <th>Education</th>\n",
       "      <td>2</td>\n",
       "      <td>3</td>\n",
       "      <td>3</td>\n",
       "      <td>3</td>\n",
       "      <td>4</td>\n",
       "    </tr>\n",
       "    <tr>\n",
       "      <th>EducationField</th>\n",
       "      <td>Medical</td>\n",
       "      <td>Medical</td>\n",
       "      <td>Medical</td>\n",
       "      <td>Life Sciences</td>\n",
       "      <td>Other</td>\n",
       "    </tr>\n",
       "    <tr>\n",
       "      <th>EmployeeCount</th>\n",
       "      <td>1</td>\n",
       "      <td>1</td>\n",
       "      <td>1</td>\n",
       "      <td>1</td>\n",
       "      <td>1</td>\n",
       "    </tr>\n",
       "    <tr>\n",
       "      <th>EmployeeNumber</th>\n",
       "      <td>80</td>\n",
       "      <td>1770</td>\n",
       "      <td>1937</td>\n",
       "      <td>902</td>\n",
       "      <td>1225</td>\n",
       "    </tr>\n",
       "    <tr>\n",
       "      <th>EnvironmentSatisfaction</th>\n",
       "      <td>2</td>\n",
       "      <td>3</td>\n",
       "      <td>4</td>\n",
       "      <td>4</td>\n",
       "      <td>4</td>\n",
       "    </tr>\n",
       "    <tr>\n",
       "      <th>Gender</th>\n",
       "      <td>Female</td>\n",
       "      <td>Male</td>\n",
       "      <td>Female</td>\n",
       "      <td>Female</td>\n",
       "      <td>Male</td>\n",
       "    </tr>\n",
       "    <tr>\n",
       "      <th>HourlyRate</th>\n",
       "      <td>43</td>\n",
       "      <td>60</td>\n",
       "      <td>58</td>\n",
       "      <td>33</td>\n",
       "      <td>32</td>\n",
       "    </tr>\n",
       "    <tr>\n",
       "      <th>JobInvolvement</th>\n",
       "      <td>2</td>\n",
       "      <td>2</td>\n",
       "      <td>2</td>\n",
       "      <td>3</td>\n",
       "      <td>3</td>\n",
       "    </tr>\n",
       "    <tr>\n",
       "      <th>JobLevel</th>\n",
       "      <td>5</td>\n",
       "      <td>5</td>\n",
       "      <td>2</td>\n",
       "      <td>2</td>\n",
       "      <td>2</td>\n",
       "    </tr>\n",
       "    <tr>\n",
       "      <th>JobRole</th>\n",
       "      <td>Research Director</td>\n",
       "      <td>Research Director</td>\n",
       "      <td>Research Scientist</td>\n",
       "      <td>Healthcare Representative</td>\n",
       "      <td>Research Scientist</td>\n",
       "    </tr>\n",
       "    <tr>\n",
       "      <th>JobSatisfaction</th>\n",
       "      <td>3</td>\n",
       "      <td>1</td>\n",
       "      <td>2</td>\n",
       "      <td>4</td>\n",
       "      <td>4</td>\n",
       "    </tr>\n",
       "    <tr>\n",
       "      <th>MaritalStatus</th>\n",
       "      <td>Divorced</td>\n",
       "      <td>Married</td>\n",
       "      <td>Divorced</td>\n",
       "      <td>Married</td>\n",
       "      <td>Single</td>\n",
       "    </tr>\n",
       "    <tr>\n",
       "      <th>MonthlyIncome</th>\n",
       "      <td>18740</td>\n",
       "      <td>19038</td>\n",
       "      <td>2133</td>\n",
       "      <td>5562</td>\n",
       "      <td>4541</td>\n",
       "    </tr>\n",
       "    <tr>\n",
       "      <th>MonthlyRate</th>\n",
       "      <td>16701</td>\n",
       "      <td>19805</td>\n",
       "      <td>18115</td>\n",
       "      <td>21782</td>\n",
       "      <td>7744</td>\n",
       "    </tr>\n",
       "    <tr>\n",
       "      <th>NumCompaniesWorked</th>\n",
       "      <td>5</td>\n",
       "      <td>8</td>\n",
       "      <td>1</td>\n",
       "      <td>4</td>\n",
       "      <td>1</td>\n",
       "    </tr>\n",
       "    <tr>\n",
       "      <th>Over18</th>\n",
       "      <td>Y</td>\n",
       "      <td>Y</td>\n",
       "      <td>Y</td>\n",
       "      <td>Y</td>\n",
       "      <td>Y</td>\n",
       "    </tr>\n",
       "    <tr>\n",
       "      <th>OverTime</th>\n",
       "      <td>Yes</td>\n",
       "      <td>No</td>\n",
       "      <td>Yes</td>\n",
       "      <td>No</td>\n",
       "      <td>No</td>\n",
       "    </tr>\n",
       "    <tr>\n",
       "      <th>PercentSalaryHike</th>\n",
       "      <td>12</td>\n",
       "      <td>12</td>\n",
       "      <td>16</td>\n",
       "      <td>13</td>\n",
       "      <td>25</td>\n",
       "    </tr>\n",
       "    <tr>\n",
       "      <th>PerformanceRating</th>\n",
       "      <td>3</td>\n",
       "      <td>3</td>\n",
       "      <td>3</td>\n",
       "      <td>3</td>\n",
       "      <td>4</td>\n",
       "    </tr>\n",
       "    <tr>\n",
       "      <th>RelationshipSatisfaction</th>\n",
       "      <td>4</td>\n",
       "      <td>2</td>\n",
       "      <td>3</td>\n",
       "      <td>2</td>\n",
       "      <td>2</td>\n",
       "    </tr>\n",
       "    <tr>\n",
       "      <th>StandardHours</th>\n",
       "      <td>80</td>\n",
       "      <td>80</td>\n",
       "      <td>80</td>\n",
       "      <td>80</td>\n",
       "      <td>80</td>\n",
       "    </tr>\n",
       "    <tr>\n",
       "      <th>StockOptionLevel</th>\n",
       "      <td>1</td>\n",
       "      <td>3</td>\n",
       "      <td>1</td>\n",
       "      <td>1</td>\n",
       "      <td>0</td>\n",
       "    </tr>\n",
       "    <tr>\n",
       "      <th>TotalWorkingYears</th>\n",
       "      <td>29</td>\n",
       "      <td>34</td>\n",
       "      <td>20</td>\n",
       "      <td>12</td>\n",
       "      <td>20</td>\n",
       "    </tr>\n",
       "    <tr>\n",
       "      <th>TrainingTimesLastYear</th>\n",
       "      <td>2</td>\n",
       "      <td>2</td>\n",
       "      <td>3</td>\n",
       "      <td>2</td>\n",
       "      <td>3</td>\n",
       "    </tr>\n",
       "    <tr>\n",
       "      <th>WorkLifeBalance</th>\n",
       "      <td>2</td>\n",
       "      <td>3</td>\n",
       "      <td>3</td>\n",
       "      <td>2</td>\n",
       "      <td>3</td>\n",
       "    </tr>\n",
       "    <tr>\n",
       "      <th>YearsAtCompany</th>\n",
       "      <td>27</td>\n",
       "      <td>1</td>\n",
       "      <td>20</td>\n",
       "      <td>5</td>\n",
       "      <td>20</td>\n",
       "    </tr>\n",
       "    <tr>\n",
       "      <th>YearsInCurrentRole</th>\n",
       "      <td>3</td>\n",
       "      <td>0</td>\n",
       "      <td>11</td>\n",
       "      <td>2</td>\n",
       "      <td>11</td>\n",
       "    </tr>\n",
       "    <tr>\n",
       "      <th>YearsSinceLastPromotion</th>\n",
       "      <td>13</td>\n",
       "      <td>0</td>\n",
       "      <td>0</td>\n",
       "      <td>2</td>\n",
       "      <td>13</td>\n",
       "    </tr>\n",
       "    <tr>\n",
       "      <th>YearsWithCurrManager</th>\n",
       "      <td>8</td>\n",
       "      <td>0</td>\n",
       "      <td>7</td>\n",
       "      <td>2</td>\n",
       "      <td>17</td>\n",
       "    </tr>\n",
       "  </tbody>\n",
       "</table>\n",
       "</div>"
      ],
      "text/plain": [
       "                                            62                      1264  \\\n",
       "Age                                           50                      55   \n",
       "Attrition                                     No                      No   \n",
       "BusinessTravel                     Travel_Rarely           Travel_Rarely   \n",
       "DailyRate                                    989                     478   \n",
       "Department                Research & Development  Research & Development   \n",
       "DistanceFromHome                               7                       2   \n",
       "Education                                      2                       3   \n",
       "EducationField                           Medical                 Medical   \n",
       "EmployeeCount                                  1                       1   \n",
       "EmployeeNumber                                80                    1770   \n",
       "EnvironmentSatisfaction                        2                       3   \n",
       "Gender                                    Female                    Male   \n",
       "HourlyRate                                    43                      60   \n",
       "JobInvolvement                                 2                       2   \n",
       "JobLevel                                       5                       5   \n",
       "JobRole                        Research Director       Research Director   \n",
       "JobSatisfaction                                3                       1   \n",
       "MaritalStatus                           Divorced                 Married   \n",
       "MonthlyIncome                              18740                   19038   \n",
       "MonthlyRate                                16701                   19805   \n",
       "NumCompaniesWorked                             5                       8   \n",
       "Over18                                         Y                       Y   \n",
       "OverTime                                     Yes                      No   \n",
       "PercentSalaryHike                             12                      12   \n",
       "PerformanceRating                              3                       3   \n",
       "RelationshipSatisfaction                       4                       2   \n",
       "StandardHours                                 80                      80   \n",
       "StockOptionLevel                               1                       3   \n",
       "TotalWorkingYears                             29                      34   \n",
       "TrainingTimesLastYear                          2                       2   \n",
       "WorkLifeBalance                                2                       3   \n",
       "YearsAtCompany                                27                       1   \n",
       "YearsInCurrentRole                             3                       0   \n",
       "YearsSinceLastPromotion                       13                       0   \n",
       "YearsWithCurrManager                           8                       0   \n",
       "\n",
       "                                            1373                       650   \\\n",
       "Age                                           38                         43   \n",
       "Attrition                                     No                         No   \n",
       "BusinessTravel                 Travel_Frequently          Travel_Frequently   \n",
       "DailyRate                                   1394                        422   \n",
       "Department                Research & Development     Research & Development   \n",
       "DistanceFromHome                               8                          1   \n",
       "Education                                      3                          3   \n",
       "EducationField                           Medical              Life Sciences   \n",
       "EmployeeCount                                  1                          1   \n",
       "EmployeeNumber                              1937                        902   \n",
       "EnvironmentSatisfaction                        4                          4   \n",
       "Gender                                    Female                     Female   \n",
       "HourlyRate                                    58                         33   \n",
       "JobInvolvement                                 2                          3   \n",
       "JobLevel                                       2                          2   \n",
       "JobRole                       Research Scientist  Healthcare Representative   \n",
       "JobSatisfaction                                2                          4   \n",
       "MaritalStatus                           Divorced                    Married   \n",
       "MonthlyIncome                               2133                       5562   \n",
       "MonthlyRate                                18115                      21782   \n",
       "NumCompaniesWorked                             1                          4   \n",
       "Over18                                         Y                          Y   \n",
       "OverTime                                     Yes                         No   \n",
       "PercentSalaryHike                             16                         13   \n",
       "PerformanceRating                              3                          3   \n",
       "RelationshipSatisfaction                       3                          2   \n",
       "StandardHours                                 80                         80   \n",
       "StockOptionLevel                               1                          1   \n",
       "TotalWorkingYears                             20                         12   \n",
       "TrainingTimesLastYear                          3                          2   \n",
       "WorkLifeBalance                                3                          2   \n",
       "YearsAtCompany                                20                          5   \n",
       "YearsInCurrentRole                            11                          2   \n",
       "YearsSinceLastPromotion                        0                          2   \n",
       "YearsWithCurrManager                           7                          2   \n",
       "\n",
       "                                            875   \n",
       "Age                                           44  \n",
       "Attrition                                     No  \n",
       "BusinessTravel                     Travel_Rarely  \n",
       "DailyRate                                    200  \n",
       "Department                Research & Development  \n",
       "DistanceFromHome                              29  \n",
       "Education                                      4  \n",
       "EducationField                             Other  \n",
       "EmployeeCount                                  1  \n",
       "EmployeeNumber                              1225  \n",
       "EnvironmentSatisfaction                        4  \n",
       "Gender                                      Male  \n",
       "HourlyRate                                    32  \n",
       "JobInvolvement                                 3  \n",
       "JobLevel                                       2  \n",
       "JobRole                       Research Scientist  \n",
       "JobSatisfaction                                4  \n",
       "MaritalStatus                             Single  \n",
       "MonthlyIncome                               4541  \n",
       "MonthlyRate                                 7744  \n",
       "NumCompaniesWorked                             1  \n",
       "Over18                                         Y  \n",
       "OverTime                                      No  \n",
       "PercentSalaryHike                             25  \n",
       "PerformanceRating                              4  \n",
       "RelationshipSatisfaction                       2  \n",
       "StandardHours                                 80  \n",
       "StockOptionLevel                               0  \n",
       "TotalWorkingYears                             20  \n",
       "TrainingTimesLastYear                          3  \n",
       "WorkLifeBalance                                3  \n",
       "YearsAtCompany                                20  \n",
       "YearsInCurrentRole                            11  \n",
       "YearsSinceLastPromotion                       13  \n",
       "YearsWithCurrManager                          17  "
      ]
     },
     "execution_count": 7,
     "metadata": {},
     "output_type": "execute_result"
    }
   ],
   "source": [
    "# Visualizing dataset\n",
    "df_raw.sample(5).T"
   ]
  },
  {
   "cell_type": "markdown",
   "id": "a98335cf",
   "metadata": {},
   "source": [
    "## Data Dimensions"
   ]
  },
  {
   "cell_type": "code",
   "execution_count": 8,
   "id": "3ae2a20e",
   "metadata": {
    "ExecuteTime": {
     "end_time": "2021-07-11T00:54:04.632983Z",
     "start_time": "2021-07-11T00:54:04.628209Z"
    }
   },
   "outputs": [],
   "source": [
    "df1 = df_raw.copy()"
   ]
  },
  {
   "cell_type": "markdown",
   "id": "70def0a2",
   "metadata": {
    "ExecuteTime": {
     "end_time": "2021-07-11T00:04:21.906843Z",
     "start_time": "2021-07-11T00:04:21.900360Z"
    }
   },
   "source": [
    "As we can see, this dataset has 35 different features, so, in order to see how data is distributed in each attribute, we gonna check each percentage."
   ]
  },
  {
   "cell_type": "code",
   "execution_count": 9,
   "id": "ce699677",
   "metadata": {
    "ExecuteTime": {
     "end_time": "2021-07-11T00:54:04.731195Z",
     "start_time": "2021-07-11T00:54:04.637198Z"
    }
   },
   "outputs": [
    {
     "name": "stdout",
     "output_type": "stream",
     "text": [
      "35    5.306122\n",
      "34    5.238095\n",
      "36    4.693878\n",
      "31    4.693878\n",
      "29    4.625850\n",
      "32    4.149660\n",
      "30    4.081633\n",
      "33    3.945578\n",
      "38    3.945578\n",
      "40    3.877551\n",
      "37    3.401361\n",
      "27    3.265306\n",
      "28    3.265306\n",
      "42    3.129252\n",
      "39    2.857143\n",
      "45    2.789116\n",
      "41    2.721088\n",
      "26    2.653061\n",
      "44    2.244898\n",
      "46    2.244898\n",
      "43    2.176871\n",
      "50    2.040816\n",
      "25    1.768707\n",
      "24    1.768707\n",
      "49    1.632653\n",
      "47    1.632653\n",
      "55    1.496599\n",
      "51    1.292517\n",
      "53    1.292517\n",
      "48    1.292517\n",
      "54    1.224490\n",
      "52    1.224490\n",
      "22    1.088435\n",
      "56    0.952381\n",
      "23    0.952381\n",
      "58    0.952381\n",
      "21    0.884354\n",
      "20    0.748299\n",
      "59    0.680272\n",
      "19    0.612245\n",
      "18    0.544218\n",
      "60    0.340136\n",
      "57    0.272109\n",
      "Name: Age, dtype: float64\n",
      "No     83.877551\n",
      "Yes    16.122449\n",
      "Name: Attrition, dtype: float64\n",
      "Travel_Rarely        70.952381\n",
      "Travel_Frequently    18.843537\n",
      "Non-Travel           10.204082\n",
      "Name: BusinessTravel, dtype: float64\n",
      "691     0.408163\n",
      "530     0.340136\n",
      "1329    0.340136\n",
      "1082    0.340136\n",
      "329     0.340136\n",
      "          ...   \n",
      "1439    0.068027\n",
      "1369    0.068027\n",
      "172     0.068027\n",
      "1255    0.068027\n",
      "628     0.068027\n",
      "Name: DailyRate, Length: 886, dtype: float64\n",
      "Research & Development    65.374150\n",
      "Sales                     30.340136\n",
      "Human Resources            4.285714\n",
      "Name: Department, dtype: float64\n",
      "2     14.353741\n",
      "1     14.149660\n",
      "10     5.850340\n",
      "9      5.782313\n",
      "3      5.714286\n",
      "7      5.714286\n",
      "8      5.442177\n",
      "5      4.421769\n",
      "4      4.353741\n",
      "6      4.013605\n",
      "16     2.176871\n",
      "11     1.972789\n",
      "24     1.904762\n",
      "29     1.836735\n",
      "23     1.836735\n",
      "15     1.768707\n",
      "18     1.768707\n",
      "26     1.700680\n",
      "25     1.700680\n",
      "20     1.700680\n",
      "28     1.564626\n",
      "19     1.496599\n",
      "14     1.428571\n",
      "12     1.360544\n",
      "17     1.360544\n",
      "22     1.292517\n",
      "13     1.292517\n",
      "21     1.224490\n",
      "27     0.816327\n",
      "Name: DistanceFromHome, dtype: float64\n",
      "3    38.911565\n",
      "4    27.074830\n",
      "2    19.183673\n",
      "1    11.564626\n",
      "5     3.265306\n",
      "Name: Education, dtype: float64\n",
      "Life Sciences       41.224490\n",
      "Medical             31.564626\n",
      "Marketing           10.816327\n",
      "Technical Degree     8.979592\n",
      "Other                5.578231\n",
      "Human Resources      1.836735\n",
      "Name: EducationField, dtype: float64\n",
      "1    100.0\n",
      "Name: EmployeeCount, dtype: float64\n",
      "1       0.068027\n",
      "27      0.068027\n",
      "5       0.068027\n",
      "7       0.068027\n",
      "8       0.068027\n",
      "          ...   \n",
      "2061    0.068027\n",
      "2062    0.068027\n",
      "2064    0.068027\n",
      "2065    0.068027\n",
      "2068    0.068027\n",
      "Name: EmployeeNumber, Length: 1470, dtype: float64\n",
      "3    30.816327\n",
      "4    30.340136\n",
      "2    19.523810\n",
      "1    19.319728\n",
      "Name: EnvironmentSatisfaction, dtype: float64\n",
      "Male      60.0\n",
      "Female    40.0\n",
      "Name: Gender, dtype: float64\n",
      "66    1.972789\n",
      "42    1.904762\n",
      "48    1.904762\n",
      "84    1.904762\n",
      "98    1.904762\n",
      "        ...   \n",
      "31    1.020408\n",
      "53    0.952381\n",
      "68    0.952381\n",
      "38    0.884354\n",
      "34    0.816327\n",
      "Name: HourlyRate, Length: 71, dtype: float64\n",
      "3    59.047619\n",
      "2    25.510204\n",
      "4     9.795918\n",
      "1     5.646259\n",
      "Name: JobInvolvement, dtype: float64\n",
      "1    36.938776\n",
      "2    36.326531\n",
      "3    14.829932\n",
      "4     7.210884\n",
      "5     4.693878\n",
      "Name: JobLevel, dtype: float64\n",
      "Sales Executive              22.176871\n",
      "Research Scientist           19.863946\n",
      "Laboratory Technician        17.619048\n",
      "Manufacturing Director        9.863946\n",
      "Healthcare Representative     8.911565\n",
      "Manager                       6.938776\n",
      "Sales Representative          5.646259\n",
      "Research Director             5.442177\n",
      "Human Resources               3.537415\n",
      "Name: JobRole, dtype: float64\n",
      "4    31.224490\n",
      "3    30.068027\n",
      "1    19.659864\n",
      "2    19.047619\n",
      "Name: JobSatisfaction, dtype: float64\n",
      "Married     45.782313\n",
      "Single      31.972789\n",
      "Divorced    22.244898\n",
      "Name: MaritalStatus, dtype: float64\n",
      "2342    0.272109\n",
      "5562    0.204082\n",
      "2404    0.204082\n",
      "6347    0.204082\n",
      "2380    0.204082\n",
      "          ...   \n",
      "3065    0.068027\n",
      "2810    0.068027\n",
      "9888    0.068027\n",
      "8628    0.068027\n",
      "4404    0.068027\n",
      "Name: MonthlyIncome, Length: 1349, dtype: float64\n",
      "4223     0.204082\n",
      "9150     0.204082\n",
      "4658     0.136054\n",
      "10494    0.136054\n",
      "21981    0.136054\n",
      "           ...   \n",
      "14369    0.068027\n",
      "23333    0.068027\n",
      "2725     0.068027\n",
      "24594    0.068027\n",
      "10228    0.068027\n",
      "Name: MonthlyRate, Length: 1427, dtype: float64\n",
      "1    35.442177\n",
      "0    13.401361\n",
      "3    10.816327\n",
      "2     9.931973\n",
      "4     9.455782\n",
      "7     5.034014\n",
      "6     4.761905\n",
      "5     4.285714\n",
      "9     3.537415\n",
      "8     3.333333\n",
      "Name: NumCompaniesWorked, dtype: float64\n",
      "Y    100.0\n",
      "Name: Over18, dtype: float64\n",
      "No     71.70068\n",
      "Yes    28.29932\n",
      "Name: OverTime, dtype: float64\n",
      "11    14.285714\n",
      "13    14.217687\n",
      "14    13.673469\n",
      "12    13.469388\n",
      "15     6.870748\n",
      "18     6.054422\n",
      "17     5.578231\n",
      "16     5.306122\n",
      "19     5.170068\n",
      "22     3.809524\n",
      "20     3.741497\n",
      "21     3.265306\n",
      "23     1.904762\n",
      "24     1.428571\n",
      "25     1.224490\n",
      "Name: PercentSalaryHike, dtype: float64\n",
      "3    84.62585\n",
      "4    15.37415\n",
      "Name: PerformanceRating, dtype: float64\n",
      "3    31.224490\n",
      "4    29.387755\n",
      "2    20.612245\n",
      "1    18.775510\n",
      "Name: RelationshipSatisfaction, dtype: float64\n",
      "80    100.0\n",
      "Name: StandardHours, dtype: float64\n",
      "0    42.925170\n",
      "1    40.544218\n",
      "2    10.748299\n",
      "3     5.782313\n",
      "Name: StockOptionLevel, dtype: float64\n",
      "10    13.741497\n",
      "6      8.503401\n",
      "8      7.006803\n",
      "9      6.530612\n",
      "5      5.986395\n",
      "7      5.510204\n",
      "1      5.510204\n",
      "4      4.285714\n",
      "12     3.265306\n",
      "3      2.857143\n",
      "15     2.721088\n",
      "16     2.517007\n",
      "11     2.448980\n",
      "13     2.448980\n",
      "21     2.312925\n",
      "17     2.244898\n",
      "2      2.108844\n",
      "14     2.108844\n",
      "20     2.040816\n",
      "18     1.836735\n",
      "23     1.496599\n",
      "19     1.496599\n",
      "22     1.428571\n",
      "24     1.224490\n",
      "25     0.952381\n",
      "28     0.952381\n",
      "26     0.952381\n",
      "0      0.748299\n",
      "29     0.680272\n",
      "31     0.612245\n",
      "32     0.612245\n",
      "27     0.476190\n",
      "30     0.476190\n",
      "33     0.476190\n",
      "36     0.408163\n",
      "34     0.340136\n",
      "37     0.272109\n",
      "35     0.204082\n",
      "40     0.136054\n",
      "38     0.068027\n",
      "Name: TotalWorkingYears, dtype: float64\n",
      "2    37.210884\n",
      "3    33.401361\n",
      "4     8.367347\n",
      "5     8.095238\n",
      "1     4.829932\n",
      "6     4.421769\n",
      "0     3.673469\n",
      "Name: TrainingTimesLastYear, dtype: float64\n",
      "3    60.748299\n",
      "2    23.401361\n",
      "4    10.408163\n",
      "1     5.442177\n",
      "Name: WorkLifeBalance, dtype: float64\n",
      "5     13.333333\n",
      "1     11.632653\n",
      "3      8.707483\n",
      "2      8.639456\n",
      "10     8.163265\n",
      "4      7.482993\n",
      "7      6.122449\n",
      "9      5.578231\n",
      "8      5.442177\n",
      "6      5.170068\n",
      "0      2.993197\n",
      "11     2.176871\n",
      "20     1.836735\n",
      "13     1.632653\n",
      "15     1.360544\n",
      "14     1.224490\n",
      "22     1.020408\n",
      "21     0.952381\n",
      "12     0.952381\n",
      "18     0.884354\n",
      "16     0.816327\n",
      "19     0.748299\n",
      "17     0.612245\n",
      "24     0.408163\n",
      "33     0.340136\n",
      "25     0.272109\n",
      "26     0.272109\n",
      "32     0.204082\n",
      "31     0.204082\n",
      "27     0.136054\n",
      "36     0.136054\n",
      "29     0.136054\n",
      "23     0.136054\n",
      "37     0.068027\n",
      "40     0.068027\n",
      "34     0.068027\n",
      "30     0.068027\n",
      "Name: YearsAtCompany, dtype: float64\n",
      "2     25.306122\n",
      "0     16.598639\n",
      "7     15.102041\n",
      "3      9.183673\n",
      "4      7.074830\n",
      "8      6.054422\n",
      "9      4.557823\n",
      "1      3.877551\n",
      "6      2.517007\n",
      "5      2.448980\n",
      "10     1.972789\n",
      "11     1.496599\n",
      "13     0.952381\n",
      "14     0.748299\n",
      "12     0.680272\n",
      "15     0.544218\n",
      "16     0.476190\n",
      "17     0.272109\n",
      "18     0.136054\n",
      "Name: YearsInCurrentRole, dtype: float64\n",
      "0     39.523810\n",
      "1     24.285714\n",
      "2     10.816327\n",
      "7      5.170068\n",
      "4      4.149660\n",
      "3      3.537415\n",
      "5      3.061224\n",
      "6      2.176871\n",
      "11     1.632653\n",
      "8      1.224490\n",
      "9      1.156463\n",
      "15     0.884354\n",
      "13     0.680272\n",
      "12     0.680272\n",
      "14     0.612245\n",
      "10     0.408163\n",
      "Name: YearsSinceLastPromotion, dtype: float64\n",
      "2     23.401361\n",
      "0     17.891156\n",
      "7     14.693878\n",
      "3      9.659864\n",
      "8      7.278912\n",
      "4      6.666667\n",
      "1      5.170068\n",
      "9      4.353741\n",
      "5      2.108844\n",
      "6      1.972789\n",
      "10     1.836735\n",
      "11     1.496599\n",
      "12     1.224490\n",
      "13     0.952381\n",
      "17     0.476190\n",
      "15     0.340136\n",
      "14     0.340136\n",
      "16     0.136054\n",
      "Name: YearsWithCurrManager, dtype: float64\n"
     ]
    }
   ],
   "source": [
    "cols = df1.columns\n",
    "\n",
    "def value_counts():\n",
    "    for d in df1[cols]:\n",
    "        print((df1[d].value_counts(normalize = True) * 100).sort_values(ascending = False))\n",
    "        \n",
    "value_counts()"
   ]
  },
  {
   "cell_type": "code",
   "execution_count": 10,
   "id": "26fd3979",
   "metadata": {
    "ExecuteTime": {
     "end_time": "2021-07-11T00:54:04.741649Z",
     "start_time": "2021-07-11T00:54:04.735691Z"
    }
   },
   "outputs": [],
   "source": [
    "# dropping features Over18 and StandardHours\n",
    "df1.drop(columns=(['Over18', 'StandardHours', 'EmployeeCount']), inplace = True)"
   ]
  },
  {
   "cell_type": "markdown",
   "id": "3aa1df7b",
   "metadata": {},
   "source": [
    "# Descriptive Analysis"
   ]
  },
  {
   "cell_type": "markdown",
   "id": "4e6d0b6c",
   "metadata": {},
   "source": [
    "## Dependent Variable"
   ]
  },
  {
   "cell_type": "code",
   "execution_count": 11,
   "id": "ea6af92c",
   "metadata": {
    "ExecuteTime": {
     "end_time": "2021-07-11T00:54:04.755933Z",
     "start_time": "2021-07-11T00:54:04.744806Z"
    }
   },
   "outputs": [
    {
     "data": {
      "text/plain": [
       "No     1233\n",
       "Yes     237\n",
       "Name: Attrition, dtype: int64"
      ]
     },
     "execution_count": 11,
     "metadata": {},
     "output_type": "execute_result"
    }
   ],
   "source": [
    "df1['Attrition'].value_counts()"
   ]
  },
  {
   "cell_type": "code",
   "execution_count": 12,
   "id": "810ebf75",
   "metadata": {
    "ExecuteTime": {
     "end_time": "2021-07-11T00:54:04.996377Z",
     "start_time": "2021-07-11T00:54:04.759122Z"
    }
   },
   "outputs": [
    {
     "data": {
      "image/png": "[encoded data removed]",
      "text/plain": [
       "<Figure size 360x360 with 1 Axes>"
      ]
     },
     "metadata": {
      "needs_background": "light"
     },
     "output_type": "display_data"
    }
   ],
   "source": [
    "sns.set_palette(\"viridis\")\n",
    "\n",
    "plt.figure(figsize = (5,5))\n",
    "sns.countplot(data = df1, x = 'Attrition')\n",
    "sns.despine();"
   ]
  },
  {
   "cell_type": "markdown",
   "id": "d56bf519",
   "metadata": {},
   "source": [
    "## Numerical Variables"
   ]
  },
  {
   "cell_type": "code",
   "execution_count": 13,
   "id": "32a08f91",
   "metadata": {
    "ExecuteTime": {
     "end_time": "2021-07-11T00:54:05.028726Z",
     "start_time": "2021-07-11T00:54:04.999089Z"
    }
   },
   "outputs": [
    {
     "data": {
      "text/html": [
       "<div>\n",
       "<style scoped>\n",
       "    .dataframe tbody tr th:only-of-type {\n",
       "        vertical-align: middle;\n",
       "    }\n",
       "\n",
       "    .dataframe tbody tr th {\n",
       "        vertical-align: top;\n",
       "    }\n",
       "\n",
       "    .dataframe thead th {\n",
       "        text-align: right;\n",
       "    }\n",
       "</style>\n",
       "<table border=\"1\" class=\"dataframe\">\n",
       "  <thead>\n",
       "    <tr style=\"text-align: right;\">\n",
       "      <th></th>\n",
       "      <th>Age</th>\n",
       "      <th>DailyRate</th>\n",
       "      <th>DistanceFromHome</th>\n",
       "      <th>Education</th>\n",
       "      <th>EmployeeNumber</th>\n",
       "      <th>EnvironmentSatisfaction</th>\n",
       "      <th>HourlyRate</th>\n",
       "      <th>JobInvolvement</th>\n",
       "      <th>JobLevel</th>\n",
       "      <th>JobSatisfaction</th>\n",
       "      <th>...</th>\n",
       "      <th>PerformanceRating</th>\n",
       "      <th>RelationshipSatisfaction</th>\n",
       "      <th>StockOptionLevel</th>\n",
       "      <th>TotalWorkingYears</th>\n",
       "      <th>TrainingTimesLastYear</th>\n",
       "      <th>WorkLifeBalance</th>\n",
       "      <th>YearsAtCompany</th>\n",
       "      <th>YearsInCurrentRole</th>\n",
       "      <th>YearsSinceLastPromotion</th>\n",
       "      <th>YearsWithCurrManager</th>\n",
       "    </tr>\n",
       "  </thead>\n",
       "  <tbody>\n",
       "    <tr>\n",
       "      <th>0</th>\n",
       "      <td>41</td>\n",
       "      <td>1102</td>\n",
       "      <td>1</td>\n",
       "      <td>2</td>\n",
       "      <td>1</td>\n",
       "      <td>2</td>\n",
       "      <td>94</td>\n",
       "      <td>3</td>\n",
       "      <td>2</td>\n",
       "      <td>4</td>\n",
       "      <td>...</td>\n",
       "      <td>3</td>\n",
       "      <td>1</td>\n",
       "      <td>0</td>\n",
       "      <td>8</td>\n",
       "      <td>0</td>\n",
       "      <td>1</td>\n",
       "      <td>6</td>\n",
       "      <td>4</td>\n",
       "      <td>0</td>\n",
       "      <td>5</td>\n",
       "    </tr>\n",
       "    <tr>\n",
       "      <th>1</th>\n",
       "      <td>49</td>\n",
       "      <td>279</td>\n",
       "      <td>8</td>\n",
       "      <td>1</td>\n",
       "      <td>2</td>\n",
       "      <td>3</td>\n",
       "      <td>61</td>\n",
       "      <td>2</td>\n",
       "      <td>2</td>\n",
       "      <td>2</td>\n",
       "      <td>...</td>\n",
       "      <td>4</td>\n",
       "      <td>4</td>\n",
       "      <td>1</td>\n",
       "      <td>10</td>\n",
       "      <td>3</td>\n",
       "      <td>3</td>\n",
       "      <td>10</td>\n",
       "      <td>7</td>\n",
       "      <td>1</td>\n",
       "      <td>7</td>\n",
       "    </tr>\n",
       "    <tr>\n",
       "      <th>2</th>\n",
       "      <td>37</td>\n",
       "      <td>1373</td>\n",
       "      <td>2</td>\n",
       "      <td>2</td>\n",
       "      <td>4</td>\n",
       "      <td>4</td>\n",
       "      <td>92</td>\n",
       "      <td>2</td>\n",
       "      <td>1</td>\n",
       "      <td>3</td>\n",
       "      <td>...</td>\n",
       "      <td>3</td>\n",
       "      <td>2</td>\n",
       "      <td>0</td>\n",
       "      <td>7</td>\n",
       "      <td>3</td>\n",
       "      <td>3</td>\n",
       "      <td>0</td>\n",
       "      <td>0</td>\n",
       "      <td>0</td>\n",
       "      <td>0</td>\n",
       "    </tr>\n",
       "    <tr>\n",
       "      <th>3</th>\n",
       "      <td>33</td>\n",
       "      <td>1392</td>\n",
       "      <td>3</td>\n",
       "      <td>4</td>\n",
       "      <td>5</td>\n",
       "      <td>4</td>\n",
       "      <td>56</td>\n",
       "      <td>3</td>\n",
       "      <td>1</td>\n",
       "      <td>3</td>\n",
       "      <td>...</td>\n",
       "      <td>3</td>\n",
       "      <td>3</td>\n",
       "      <td>0</td>\n",
       "      <td>8</td>\n",
       "      <td>3</td>\n",
       "      <td>3</td>\n",
       "      <td>8</td>\n",
       "      <td>7</td>\n",
       "      <td>3</td>\n",
       "      <td>0</td>\n",
       "    </tr>\n",
       "    <tr>\n",
       "      <th>4</th>\n",
       "      <td>27</td>\n",
       "      <td>591</td>\n",
       "      <td>2</td>\n",
       "      <td>1</td>\n",
       "      <td>7</td>\n",
       "      <td>1</td>\n",
       "      <td>40</td>\n",
       "      <td>3</td>\n",
       "      <td>1</td>\n",
       "      <td>2</td>\n",
       "      <td>...</td>\n",
       "      <td>3</td>\n",
       "      <td>4</td>\n",
       "      <td>1</td>\n",
       "      <td>6</td>\n",
       "      <td>3</td>\n",
       "      <td>3</td>\n",
       "      <td>2</td>\n",
       "      <td>2</td>\n",
       "      <td>2</td>\n",
       "      <td>2</td>\n",
       "    </tr>\n",
       "  </tbody>\n",
       "</table>\n",
       "<p>5 rows × 24 columns</p>\n",
       "</div>"
      ],
      "text/plain": [
       "   Age  DailyRate  DistanceFromHome  Education  EmployeeNumber  \\\n",
       "0   41       1102                 1          2               1   \n",
       "1   49        279                 8          1               2   \n",
       "2   37       1373                 2          2               4   \n",
       "3   33       1392                 3          4               5   \n",
       "4   27        591                 2          1               7   \n",
       "\n",
       "   EnvironmentSatisfaction  HourlyRate  JobInvolvement  JobLevel  \\\n",
       "0                        2          94               3         2   \n",
       "1                        3          61               2         2   \n",
       "2                        4          92               2         1   \n",
       "3                        4          56               3         1   \n",
       "4                        1          40               3         1   \n",
       "\n",
       "   JobSatisfaction  ...  PerformanceRating  RelationshipSatisfaction  \\\n",
       "0                4  ...                  3                         1   \n",
       "1                2  ...                  4                         4   \n",
       "2                3  ...                  3                         2   \n",
       "3                3  ...                  3                         3   \n",
       "4                2  ...                  3                         4   \n",
       "\n",
       "   StockOptionLevel  TotalWorkingYears  TrainingTimesLastYear  \\\n",
       "0                 0                  8                      0   \n",
       "1                 1                 10                      3   \n",
       "2                 0                  7                      3   \n",
       "3                 0                  8                      3   \n",
       "4                 1                  6                      3   \n",
       "\n",
       "   WorkLifeBalance  YearsAtCompany  YearsInCurrentRole  \\\n",
       "0                1               6                   4   \n",
       "1                3              10                   7   \n",
       "2                3               0                   0   \n",
       "3                3               8                   7   \n",
       "4                3               2                   2   \n",
       "\n",
       "   YearsSinceLastPromotion  YearsWithCurrManager  \n",
       "0                        0                     5  \n",
       "1                        1                     7  \n",
       "2                        0                     0  \n",
       "3                        3                     0  \n",
       "4                        2                     2  \n",
       "\n",
       "[5 rows x 24 columns]"
      ]
     },
     "execution_count": 13,
     "metadata": {},
     "output_type": "execute_result"
    }
   ],
   "source": [
    "# Selecting numerical variables\n",
    "num_variables = df1.select_dtypes(include = ['int64', 'float64'])\n",
    "num_variables.head()"
   ]
  },
  {
   "cell_type": "code",
   "execution_count": 14,
   "id": "55f87265",
   "metadata": {
    "ExecuteTime": {
     "end_time": "2021-07-11T00:54:05.041165Z",
     "start_time": "2021-07-11T00:54:05.031659Z"
    }
   },
   "outputs": [],
   "source": [
    "# add Attrition variable\n",
    "num_variables = num_variables.merge(df1['Attrition'], left_index = True, right_index = True)"
   ]
  },
  {
   "cell_type": "code",
   "execution_count": 16,
   "id": "a20af31e",
   "metadata": {
    "ExecuteTime": {
     "end_time": "2021-07-11T00:54:17.813822Z",
     "start_time": "2021-07-11T00:54:05.668869Z"
    }
   },
   "outputs": [
    {
     "name": "stderr",
     "output_type": "stream",
     "text": [
      "<ipython-input-16-b2c3321098c1>:5: RuntimeWarning: More than 20 figures have been opened. Figures created through the pyplot interface (`matplotlib.pyplot.figure`) are retained until explicitly closed and may consume too much memory. (To control this warning, see the rcParam `figure.max_open_warning`).\n",
      "  plt.figure(figsize = (10, 5))\n"
     ]
    },
    {
     "data": {
      "image/png": "[encoded data removed]",
      "text/plain": [
       "<Figure size 720x360 with 1 Axes>"
      ]
     },
     "metadata": {
      "needs_background": "light"
     },
     "output_type": "display_data"
    },
    {
     "data": {
      "image/png": "[encoded data removed]",
      "text/plain": [
       "<Figure size 720x360 with 1 Axes>"
      ]
     },
     "metadata": {
      "needs_background": "light"
     },
     "output_type": "display_data"
    },
    {
     "data": {
      "image/png": "[encoded data removed]",
      "text/plain": [
       "<Figure size 720x360 with 1 Axes>"
      ]
     },
     "metadata": {
      "needs_background": "light"
     },
     "output_type": "display_data"
    },
    {
     "data": {
      "image/png": "[encoded data removed]",
      "text/plain": [
       "<Figure size 720x360 with 1 Axes>"
      ]
     },
     "metadata": {
      "needs_background": "light"
     },
     "output_type": "display_data"
    },
    {
     "data": {
      "image/png": "[encoded data removed]",
      "text/plain": [
       "<Figure size 720x360 with 1 Axes>"
      ]
     },
     "metadata": {
      "needs_background": "light"
     },
     "output_type": "display_data"
    },
    {
     "data": {
      "image/png": "[encoded data removed]",
      "text/plain": [
       "<Figure size 720x360 with 1 Axes>"
      ]
     },
     "metadata": {
      "needs_background": "light"
     },
     "output_type": "display_data"
    },
    {
     "data": {
      "image/png": "[encoded data removed]",
      "text/plain": [
       "<Figure size 720x360 with 1 Axes>"
      ]
     },
     "metadata": {
      "needs_background": "light"
     },
     "output_type": "display_data"
    },
    {
     "data": {
      "image/png": "[encoded data removed]",
      "text/plain": [
       "<Figure size 720x360 with 1 Axes>"
      ]
     },
     "metadata": {
      "needs_background": "light"
     },
     "output_type": "display_data"
    },
    {
     "data": {
      "image/png": "[encoded data removed]",
      "text/plain": [
       "<Figure size 720x360 with 1 Axes>"
      ]
     },
     "metadata": {
      "needs_background": "light"
     },
     "output_type": "display_data"
    },
    {
     "data": {
      "image/png": "[encoded data removed]",
      "text/plain": [
       "<Figure size 720x360 with 1 Axes>"
      ]
     },
     "metadata": {
      "needs_background": "light"
     },
     "output_type": "display_data"
    },
    {
     "data": {
      "image/png": "[encoded data removed]",
      "text/plain": [
       "<Figure size 720x360 with 1 Axes>"
      ]
     },
     "metadata": {
      "needs_background": "light"
     },
     "output_type": "display_data"
    },
    {
     "data": {
      "image/png": "[encoded data removed]",
      "text/plain": [
       "<Figure size 720x360 with 1 Axes>"
      ]
     },
     "metadata": {
      "needs_background": "light"
     },
     "output_type": "display_data"
    },
    {
     "data": {
      "image/png": "[encoded data removed]",
      "text/plain": [
       "<Figure size 720x360 with 1 Axes>"
      ]
     },
     "metadata": {
      "needs_background": "light"
     },
     "output_type": "display_data"
    },
    {
     "data": {
      "image/png": "[encoded data removed]",
      "text/plain": [
       "<Figure size 720x360 with 1 Axes>"
      ]
     },
     "metadata": {
      "needs_background": "light"
     },
     "output_type": "display_data"
    },
    {
     "data": {
      "image/png": "[encoded data removed]",
      "text/plain": [
       "<Figure size 720x360 with 1 Axes>"
      ]
     },
     "metadata": {
      "needs_background": "light"
     },
     "output_type": "display_data"
    },
    {
     "data": {
      "image/png": "[encoded data removed]",
      "text/plain": [
       "<Figure size 720x360 with 1 Axes>"
      ]
     },
     "metadata": {
      "needs_background": "light"
     },
     "output_type": "display_data"
    },
    {
     "data": {
      "image/png": "[encoded data removed]",
      "text/plain": [
       "<Figure size 720x360 with 1 Axes>"
      ]
     },
     "metadata": {
      "needs_background": "light"
     },
     "output_type": "display_data"
    },
    {
     "data": {
      "image/png": "[encoded data removed]",
      "text/plain": [
       "<Figure size 720x360 with 1 Axes>"
      ]
     },
     "metadata": {
      "needs_background": "light"
     },
     "output_type": "display_data"
    },
    {
     "data": {
      "image/png": "[encoded data removed]",
      "text/plain": [
       "<Figure size 720x360 with 1 Axes>"
      ]
     },
     "metadata": {
      "needs_background": "light"
     },
     "output_type": "display_data"
    },
    {
     "data": {
      "image/png": "[encoded data removed]",
      "text/plain": [
       "<Figure size 720x360 with 1 Axes>"
      ]
     },
     "metadata": {
      "needs_background": "light"
     },
     "output_type": "display_data"
    },
    {
     "data": {
      "image/png": "[encoded data removed]",
      "text/plain": [
       "<Figure size 720x360 with 1 Axes>"
      ]
     },
     "metadata": {
      "needs_background": "light"
     },
     "output_type": "display_data"
    },
    {
     "data": {
      "image/png": "[encoded data removed]",
      "text/plain": [
       "<Figure size 720x360 with 1 Axes>"
      ]
     },
     "metadata": {
      "needs_background": "light"
     },
     "output_type": "display_data"
    },
    {
     "data": {
      "image/png": "[encoded data removed]",
      "text/plain": [
       "<Figure size 720x360 with 1 Axes>"
      ]
     },
     "metadata": {
      "needs_background": "light"
     },
     "output_type": "display_data"
    },
    {
     "data": {
      "image/png": "[encoded data removed]",
      "text/plain": [
       "<Figure size 720x360 with 1 Axes>"
      ]
     },
     "metadata": {
      "needs_background": "light"
     },
     "output_type": "display_data"
    }
   ],
   "source": [
    "for n in num_variables.columns:\n",
    "    if n != 'Attrition':\n",
    "        sns.set_palette('viridis')\n",
    "\n",
    "        plt.figure(figsize = (10, 5))\n",
    "        sns.histplot(data = df1, x = n, hue = 'Attrition', bins = 30)\n",
    "        sns.despine(bottom = True, left = True)\n",
    "        plt.title(n)"
   ]
  },
  {
   "cell_type": "markdown",
   "id": "1b8cbfbc",
   "metadata": {},
   "source": [
    "***\n",
    "\n",
    "**1. Age:**\n",
    "\n",
    "Younger people, specially before 30 years old, quit job more often.\n",
    "\n",
    "**2. Distance from Home**\n",
    "\n",
    "There's many employees who live near from company's office who quit their job.\n",
    "\n",
    "\n",
    "**3. Education:**\n",
    "\n",
    "Employees with Bachelor degree tend to quit job more offen (based on absolute values. Need to analyze the percetage of this attribute)\n",
    "\n",
    "**4. Job Level:**\n",
    "\n",
    "Job level categorized in number one concentrate the major number of attritions.\n",
    "\n",
    "**5. Monthly Income :**\n",
    "\n",
    "Employees who have lower income tend to quit their jobs more often.\n",
    "\n",
    "**6. Number of Companies Worked:**\n",
    "\n",
    "People who had worked in only one company before tend to quit their currently job.\n",
    "\n",
    "**7. Total Working Years**\n",
    "Newer employees and people with few year experience quit job more ofeten.\n",
    "\n",
    "\n",
    "***\n"
   ]
  },
  {
   "cell_type": "markdown",
   "id": "802daa08",
   "metadata": {
    "ExecuteTime": {
     "end_time": "2021-07-11T00:33:02.584016Z",
     "start_time": "2021-07-11T00:33:02.552529Z"
    }
   },
   "source": [
    "## Categorical Variables"
   ]
  },
  {
   "cell_type": "code",
   "execution_count": 17,
   "id": "b6c8eb0d",
   "metadata": {
    "ExecuteTime": {
     "end_time": "2021-07-11T00:54:17.844829Z",
     "start_time": "2021-07-11T00:54:17.816970Z"
    },
    "scrolled": true
   },
   "outputs": [
    {
     "data": {
      "text/html": [
       "<div>\n",
       "<style scoped>\n",
       "    .dataframe tbody tr th:only-of-type {\n",
       "        vertical-align: middle;\n",
       "    }\n",
       "\n",
       "    .dataframe tbody tr th {\n",
       "        vertical-align: top;\n",
       "    }\n",
       "\n",
       "    .dataframe thead th {\n",
       "        text-align: right;\n",
       "    }\n",
       "</style>\n",
       "<table border=\"1\" class=\"dataframe\">\n",
       "  <thead>\n",
       "    <tr style=\"text-align: right;\">\n",
       "      <th></th>\n",
       "      <th>Attrition</th>\n",
       "      <th>BusinessTravel</th>\n",
       "      <th>Department</th>\n",
       "      <th>EducationField</th>\n",
       "      <th>Gender</th>\n",
       "      <th>JobRole</th>\n",
       "      <th>MaritalStatus</th>\n",
       "      <th>OverTime</th>\n",
       "    </tr>\n",
       "  </thead>\n",
       "  <tbody>\n",
       "    <tr>\n",
       "      <th>0</th>\n",
       "      <td>Yes</td>\n",
       "      <td>Travel_Rarely</td>\n",
       "      <td>Sales</td>\n",
       "      <td>Life Sciences</td>\n",
       "      <td>Female</td>\n",
       "      <td>Sales Executive</td>\n",
       "      <td>Single</td>\n",
       "      <td>Yes</td>\n",
       "    </tr>\n",
       "    <tr>\n",
       "      <th>1</th>\n",
       "      <td>No</td>\n",
       "      <td>Travel_Frequently</td>\n",
       "      <td>Research &amp; Development</td>\n",
       "      <td>Life Sciences</td>\n",
       "      <td>Male</td>\n",
       "      <td>Research Scientist</td>\n",
       "      <td>Married</td>\n",
       "      <td>No</td>\n",
       "    </tr>\n",
       "    <tr>\n",
       "      <th>2</th>\n",
       "      <td>Yes</td>\n",
       "      <td>Travel_Rarely</td>\n",
       "      <td>Research &amp; Development</td>\n",
       "      <td>Other</td>\n",
       "      <td>Male</td>\n",
       "      <td>Laboratory Technician</td>\n",
       "      <td>Single</td>\n",
       "      <td>Yes</td>\n",
       "    </tr>\n",
       "    <tr>\n",
       "      <th>3</th>\n",
       "      <td>No</td>\n",
       "      <td>Travel_Frequently</td>\n",
       "      <td>Research &amp; Development</td>\n",
       "      <td>Life Sciences</td>\n",
       "      <td>Female</td>\n",
       "      <td>Research Scientist</td>\n",
       "      <td>Married</td>\n",
       "      <td>Yes</td>\n",
       "    </tr>\n",
       "    <tr>\n",
       "      <th>4</th>\n",
       "      <td>No</td>\n",
       "      <td>Travel_Rarely</td>\n",
       "      <td>Research &amp; Development</td>\n",
       "      <td>Medical</td>\n",
       "      <td>Male</td>\n",
       "      <td>Laboratory Technician</td>\n",
       "      <td>Married</td>\n",
       "      <td>No</td>\n",
       "    </tr>\n",
       "  </tbody>\n",
       "</table>\n",
       "</div>"
      ],
      "text/plain": [
       "  Attrition     BusinessTravel              Department EducationField  Gender  \\\n",
       "0       Yes      Travel_Rarely                   Sales  Life Sciences  Female   \n",
       "1        No  Travel_Frequently  Research & Development  Life Sciences    Male   \n",
       "2       Yes      Travel_Rarely  Research & Development          Other    Male   \n",
       "3        No  Travel_Frequently  Research & Development  Life Sciences  Female   \n",
       "4        No      Travel_Rarely  Research & Development        Medical    Male   \n",
       "\n",
       "                 JobRole MaritalStatus OverTime  \n",
       "0        Sales Executive        Single      Yes  \n",
       "1     Research Scientist       Married       No  \n",
       "2  Laboratory Technician        Single      Yes  \n",
       "3     Research Scientist       Married      Yes  \n",
       "4  Laboratory Technician       Married       No  "
      ]
     },
     "execution_count": 17,
     "metadata": {},
     "output_type": "execute_result"
    }
   ],
   "source": [
    "# Selecting categoricla variables\n",
    "cat_variables = df1.select_dtypes(exclude = ['int64', 'float64'])\n",
    "cat_variables.head()"
   ]
  },
  {
   "cell_type": "code",
   "execution_count": 18,
   "id": "1e6bff79",
   "metadata": {
    "ExecuteTime": {
     "end_time": "2021-07-11T00:54:20.398991Z",
     "start_time": "2021-07-11T00:54:17.850081Z"
    }
   },
   "outputs": [
    {
     "data": {
      "image/png": "[encoded data removed]",
      "text/plain": [
       "<Figure size 720x360 with 1 Axes>"
      ]
     },
     "metadata": {
      "needs_background": "light"
     },
     "output_type": "display_data"
    },
    {
     "data": {
      "image/png": "[encoded data removed]",
      "text/plain": [
       "<Figure size 720x360 with 1 Axes>"
      ]
     },
     "metadata": {
      "needs_background": "light"
     },
     "output_type": "display_data"
    },
    {
     "data": {
      "image/png": "[encoded data removed]",
      "text/plain": [
       "<Figure size 720x360 with 1 Axes>"
      ]
     },
     "metadata": {
      "needs_background": "light"
     },
     "output_type": "display_data"
    },
    {
     "data": {
      "image/png": "[encoded data removed]",
      "text/plain": [
       "<Figure size 720x360 with 1 Axes>"
      ]
     },
     "metadata": {
      "needs_background": "light"
     },
     "output_type": "display_data"
    },
    {
     "data": {
      "image/png": "[encoded data removed]",
      "text/plain": [
       "<Figure size 720x360 with 1 Axes>"
      ]
     },
     "metadata": {
      "needs_background": "light"
     },
     "output_type": "display_data"
    },
    {
     "data": {
      "image/png": "[encoded data removed]",
      "text/plain": [
       "<Figure size 720x360 with 1 Axes>"
      ]
     },
     "metadata": {
      "needs_background": "light"
     },
     "output_type": "display_data"
    },
    {
     "data": {
      "image/png": "[encoded data removed]",
      "text/plain": [
       "<Figure size 720x360 with 1 Axes>"
      ]
     },
     "metadata": {
      "needs_background": "light"
     },
     "output_type": "display_data"
    }
   ],
   "source": [
    "for d in cat_variables.columns:\n",
    "    if d != 'Attrition':\n",
    "        plt.figure(figsize=(10,5))\n",
    "        sns.set_palette('viridis')\n",
    "        sns.countplot(data = cat_variables, x = d, hue = 'Attrition')\n",
    "        sns.despine(bottom = True, left = True)\n",
    "        plt.title(d)"
   ]
  },
  {
   "cell_type": "markdown",
   "id": "b5f9db94",
   "metadata": {},
   "source": [
    "***\n",
    "\n",
    "**1. Business Travel:**\n",
    "\n",
    "People who travel more often have more attrition as well.\n",
    "\n",
    "**2. Marital Status**\n",
    "\n",
    "Single people quit their jobs more often.\n",
    "\n",
    "***\n"
   ]
  }
 ],
 "metadata": {
  "kernelspec": {
   "display_name": "HR-Analytics",
   "language": "python",
   "name": "hr-analytics"
  },
  "language_info": {
   "codemirror_mode": {
    "name": "ipython",
    "version": 3
   },
   "file_extension": ".py",
   "mimetype": "text/x-python",
   "name": "python",
   "nbconvert_exporter": "python",
   "pygments_lexer": "ipython3",
   "version": "3.9.5"
  },
  "toc": {
   "base_numbering": 1,
   "nav_menu": {},
   "number_sections": true,
   "sideBar": true,
   "skip_h1_title": false,
   "title_cell": "Table of Contents",
   "title_sidebar": "Contents",
   "toc_cell": false,
   "toc_position": {},
   "toc_section_display": true,
   "toc_window_display": false
  },
  "varInspector": {
   "cols": {
    "lenName": 16,
    "lenType": 16,
    "lenVar": 40
   },
   "kernels_config": {
    "python": {
     "delete_cmd_postfix": "",
     "delete_cmd_prefix": "del ",
     "library": "var_list.py",
     "varRefreshCmd": "print(var_dic_list())"
    },
    "r": {
     "delete_cmd_postfix": ") ",
     "delete_cmd_prefix": "rm(",
     "library": "var_list.r",
     "varRefreshCmd": "cat(var_dic_list()) "
    }
   },
   "types_to_exclude": [
    "module",
    "function",
    "builtin_function_or_method",
    "instance",
    "_Feature"
   ],
   "window_display": false
  }
 },
 "nbformat": 4,
 "nbformat_minor": 5
}
